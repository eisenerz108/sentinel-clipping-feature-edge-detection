{
 "cells": [
  {
   "cell_type": "code",
   "execution_count": 36,
   "id": "91e11a62",
   "metadata": {},
   "outputs": [],
   "source": [
    "# Importing all the Necessary Packages\n",
    "import os\n",
    "import geopandas as gpd\n",
    "from keplergl import KeplerGl\n",
    "from rasterio.plot import show\n",
    "import rasterio as rio\n",
    "import pycrs"
   ]
  },
  {
   "cell_type": "code",
   "execution_count": 2,
   "id": "56f87bd0",
   "metadata": {
    "scrolled": true
   },
   "outputs": [
    {
     "data": {
      "text/html": [
       "<div>\n",
       "<style scoped>\n",
       "    .dataframe tbody tr th:only-of-type {\n",
       "        vertical-align: middle;\n",
       "    }\n",
       "\n",
       "    .dataframe tbody tr th {\n",
       "        vertical-align: top;\n",
       "    }\n",
       "\n",
       "    .dataframe thead th {\n",
       "        text-align: right;\n",
       "    }\n",
       "</style>\n",
       "<table border=\"1\" class=\"dataframe\">\n",
       "  <thead>\n",
       "    <tr style=\"text-align: right;\">\n",
       "      <th></th>\n",
       "      <th>id</th>\n",
       "      <th>full_id</th>\n",
       "      <th>osm_id</th>\n",
       "      <th>osm_type</th>\n",
       "      <th>cables</th>\n",
       "      <th>frequency</th>\n",
       "      <th>gez</th>\n",
       "      <th>layer</th>\n",
       "      <th>name</th>\n",
       "      <th>operator</th>\n",
       "      <th>power</th>\n",
       "      <th>ref</th>\n",
       "      <th>voltage</th>\n",
       "      <th>wires</th>\n",
       "      <th>line</th>\n",
       "      <th>disused</th>\n",
       "      <th>circuits</th>\n",
       "      <th>location</th>\n",
       "      <th>endpoint:busbar</th>\n",
       "      <th>geometry</th>\n",
       "    </tr>\n",
       "  </thead>\n",
       "  <tbody>\n",
       "    <tr>\n",
       "      <th>0</th>\n",
       "      <td>1</td>\n",
       "      <td>w166885638</td>\n",
       "      <td>166885638</td>\n",
       "      <td>way</td>\n",
       "      <td>3</td>\n",
       "      <td>50</td>\n",
       "      <td></td>\n",
       "      <td></td>\n",
       "      <td></td>\n",
       "      <td>Stromnetz Berlin</td>\n",
       "      <td>line</td>\n",
       "      <td>806</td>\n",
       "      <td>110000</td>\n",
       "      <td>single</td>\n",
       "      <td></td>\n",
       "      <td></td>\n",
       "      <td></td>\n",
       "      <td></td>\n",
       "      <td></td>\n",
       "      <td>MULTIPOLYGON (((13.53442 52.53548, 13.53289 52...</td>\n",
       "    </tr>\n",
       "  </tbody>\n",
       "</table>\n",
       "</div>"
      ],
      "text/plain": [
       "   id     full_id     osm_id osm_type cables frequency gez layer name  \\\n",
       "0   1  w166885638  166885638      way      3        50                  \n",
       "\n",
       "           operator power  ref voltage   wires line disused circuits location  \\\n",
       "0  Stromnetz Berlin  line  806  110000  single                                  \n",
       "\n",
       "  endpoint:busbar                                           geometry  \n",
       "0                  MULTIPOLYGON (((13.53442 52.53548, 13.53289 52...  "
      ]
     },
     "execution_count": 2,
     "metadata": {},
     "output_type": "execute_result"
    }
   ],
   "source": [
    "folder_path = 'data'\n",
    "file_name = 'remote_sensing_challenge_AOI.geojson'\n",
    "\n",
    "file_path = os.path.join(folder_path, file_name)\n",
    "aoi_data = gpd.read_file(file_path, driver = 'GeoJSON')\n",
    "aoi_data"
   ]
  },
  {
   "cell_type": "code",
   "execution_count": 3,
   "id": "eed79dad",
   "metadata": {},
   "outputs": [
    {
     "data": {
      "text/plain": [
       "id                    int64\n",
       "full_id              object\n",
       "osm_id               object\n",
       "osm_type             object\n",
       "cables               object\n",
       "frequency            object\n",
       "gez                  object\n",
       "layer                object\n",
       "name                 object\n",
       "operator             object\n",
       "power                object\n",
       "ref                  object\n",
       "voltage              object\n",
       "wires                object\n",
       "line                 object\n",
       "disused              object\n",
       "circuits             object\n",
       "location             object\n",
       "endpoint:busbar      object\n",
       "geometry           geometry\n",
       "dtype: object"
      ]
     },
     "execution_count": 3,
     "metadata": {},
     "output_type": "execute_result"
    }
   ],
   "source": [
    "aoi_data.dtypes"
   ]
  },
  {
   "cell_type": "code",
   "execution_count": 4,
   "id": "a524275a",
   "metadata": {},
   "outputs": [
    {
     "data": {
      "text/plain": [
       "<Geographic 2D CRS: EPSG:4326>\n",
       "Name: WGS 84\n",
       "Axis Info [ellipsoidal]:\n",
       "- Lat[north]: Geodetic latitude (degree)\n",
       "- Lon[east]: Geodetic longitude (degree)\n",
       "Area of Use:\n",
       "- name: World.\n",
       "- bounds: (-180.0, -90.0, 180.0, 90.0)\n",
       "Datum: World Geodetic System 1984 ensemble\n",
       "- Ellipsoid: WGS 84\n",
       "- Prime Meridian: Greenwich"
      ]
     },
     "execution_count": 4,
     "metadata": {},
     "output_type": "execute_result"
    }
   ],
   "source": [
    "# Checking the crs of the data\n",
    "aoi_data.crs"
   ]
  },
  {
   "cell_type": "code",
   "execution_count": 5,
   "id": "3671dde2",
   "metadata": {},
   "outputs": [
    {
     "data": {
      "text/plain": [
       "<AxesSubplot:>"
      ]
     },
     "execution_count": 5,
     "metadata": {},
     "output_type": "execute_result"
    },
    {
     "data": {
      "image/png": "[encoded data removed]",
      "text/plain": [
       "<Figure size 432x288 with 1 Axes>"
      ]
     },
     "metadata": {
      "needs_background": "light"
     },
     "output_type": "display_data"
    }
   ],
   "source": [
    "aoi_data.plot()"
   ]
  },
  {
   "cell_type": "markdown",
   "id": "9e4c66b9",
   "metadata": {},
   "source": [
    "# Checking the Location of the Data using Kepler GL"
   ]
  },
  {
   "cell_type": "code",
   "execution_count": 6,
   "id": "98f239b8",
   "metadata": {
    "scrolled": true
   },
   "outputs": [
    {
     "name": "stdout",
     "output_type": "stream",
     "text": [
      "User Guide: https://docs.kepler.gl/docs/keplergl-jupyter\n"
     ]
    },
    {
     "data": {
      "application/vnd.jupyter.widget-view+json": {
       "model_id": "e3cdc9e302124cfd9b1b50bbaf9be56b",
       "version_major": 2,
       "version_minor": 0
      },
      "text/plain": [
       "KeplerGl(data={'area_of_interest': {'index': [0], 'columns': ['id', 'full_id', 'osm_id', 'osm_type', 'cables',…"
      ]
     },
     "metadata": {},
     "output_type": "display_data"
    }
   ],
   "source": [
    "base_map = KeplerGl(height=600, width=800)\n",
    "base_map.add_data(data=aoi_data.copy(), name = 'area_of_interest')\n",
    "base_map"
   ]
  },
  {
   "cell_type": "markdown",
   "id": "ff9e2e15",
   "metadata": {},
   "source": [
    "# Processing the Raster Data (Merged - 12 Bands)"
   ]
  },
  {
   "cell_type": "code",
   "execution_count": 7,
   "id": "d113fad2",
   "metadata": {},
   "outputs": [],
   "source": [
    "raster_folder_path = r'data'\n",
    "raster_file_name = r'12bandGeoTIFF.tif'\n",
    "raster_file = os.path.join(raster_folder_path, raster_file_name)\n",
    "sat_raster12 = rio.open(raster_file)"
   ]
  },
  {
   "cell_type": "code",
   "execution_count": 8,
   "id": "d9740742",
   "metadata": {},
   "outputs": [
    {
     "name": "stdout",
     "output_type": "stream",
     "text": [
      "Data type of the file imported <class 'rasterio.io.DatasetReader'>\n",
      "Number of bands in the TIF file is  12\n",
      "CRS is EPSG:32633\n"
     ]
    }
   ],
   "source": [
    "print('Data type of the file imported',type(sat_raster12))\n",
    "print('Number of bands in the TIF file is ',sat_raster12.count)\n",
    "print('CRS is', sat_raster12.crs)"
   ]
  },
  {
   "cell_type": "markdown",
   "id": "281b3406",
   "metadata": {},
   "source": [
    "# Clipping the Raster Data with the AOI"
   ]
  },
  {
   "cell_type": "code",
   "execution_count": 9,
   "id": "a750d89a",
   "metadata": {},
   "outputs": [],
   "source": [
    "aoi_geom = aoi_data.at[0,'geometry']"
   ]
  },
  {
   "cell_type": "code",
   "execution_count": 10,
   "id": "aaf6aae4",
   "metadata": {},
   "outputs": [
    {
     "data": {
      "text/plain": [
       "shapely.geometry.multipolygon.MultiPolygon"
      ]
     },
     "execution_count": 10,
     "metadata": {},
     "output_type": "execute_result"
    }
   ],
   "source": [
    "type(aoi_geom)"
   ]
  },
  {
   "cell_type": "code",
   "execution_count": 11,
   "id": "8c5a16ec",
   "metadata": {},
   "outputs": [],
   "source": [
    "envelope = aoi_geom.envelope"
   ]
  },
  {
   "cell_type": "code",
   "execution_count": 12,
   "id": "e461707a",
   "metadata": {},
   "outputs": [
    {
     "data": {
      "image/svg+xml": [
       "<svg xmlns=\"http://www.w3.org/2000/svg\" xmlns:xlink=\"http://www.w3.org/1999/xlink\" width=\"100.0\" height=\"100.0\" viewBox=\"13.474845235044649 52.46853934743289 0.10544803616868847 0.15634717993696512\" preserveAspectRatio=\"xMinYMin meet\"><g transform=\"matrix(1,0,0,-1,0,105.09342587480273)\"><path fill-rule=\"evenodd\" fill=\"#66cc99\" stroke=\"#555555\" stroke-width=\"0.0031269435987393026\" opacity=\"0.6\" d=\"M 13.480635871338611,52.47432998372685 L 13.574502634919375,52.47432998372685 L 13.574502634919375,52.619095891075894 L 13.480635871338611,52.619095891075894 L 13.480635871338611,52.47432998372685 z\" /></g></svg>"
      ],
      "text/plain": [
       "<shapely.geometry.polygon.Polygon at 0x255100ad9c8>"
      ]
     },
     "execution_count": 12,
     "metadata": {},
     "output_type": "execute_result"
    }
   ],
   "source": [
    "envelope"
   ]
  },
  {
   "cell_type": "code",
   "execution_count": 13,
   "id": "1b9aaef4",
   "metadata": {},
   "outputs": [],
   "source": [
    "con_hull = aoi_geom.convex_hull"
   ]
  },
  {
   "cell_type": "code",
   "execution_count": 14,
   "id": "89b269bd",
   "metadata": {},
   "outputs": [
    {
     "data": {
      "image/svg+xml": [
       "<svg xmlns=\"http://www.w3.org/2000/svg\" xmlns:xlink=\"http://www.w3.org/1999/xlink\" width=\"100.0\" height=\"100.0\" viewBox=\"13.474845235044649 52.46853934743289 0.10544803616868847 0.15634717993696512\" preserveAspectRatio=\"xMinYMin meet\"><g transform=\"matrix(1,0,0,-1,0,105.09342587480273)\"><path fill-rule=\"evenodd\" fill=\"#66cc99\" stroke=\"#555555\" stroke-width=\"0.0031269435987393026\" opacity=\"0.6\" d=\"M 13.505350708709212,52.47432998372685 L 13.505122856705086,52.47434934935919 L 13.504915956124075,52.474410762032974 L 13.50475025944885,52.47450821041423 L 13.504641986223879,52.47463215577679 L 13.503446456033219,52.47674304943272 L 13.503406898406782,52.47686849360788 L 13.480823711989093,52.57654509742674 L 13.480816716260968,52.576591002013515 L 13.480635871338611,52.57926250188295 L 13.480643958015827,52.57934983484239 L 13.481085930206918,52.58108523817491 L 13.481158613528683,52.581221503510044 L 13.48307958970859,52.58350011466962 L 13.515779450944091,52.61883783114316 L 13.515907612842733,52.618954657926274 L 13.516088819506132,52.61904166255759 L 13.516305332985377,52.619090328225504 L 13.516535958912145,52.619095891075894 L 13.516758121349918,52.61905780657699 L 13.51695007293757,52.61897980282244 L 13.517093023884144,52.618869515554536 L 13.574407616182823,52.561062698488854 L 13.574490388992803,52.56093159818492 L 13.574502634919375,52.56079132624305 L 13.574443155906614,52.56065561346467 L 13.541522162386705,52.49782125295437 L 13.541431861710883,52.49769166554278 L 13.541280232251562,52.49758552303632 L 13.505939773668159,52.474521853859684 L 13.505780186839978,52.4744206745978 L 13.505577209021578,52.474354560710154 L 13.505350708709212,52.47432998372685 z\" /></g></svg>"
      ],
      "text/plain": [
       "<shapely.geometry.polygon.Polygon at 0x255100b0b88>"
      ]
     },
     "execution_count": 14,
     "metadata": {},
     "output_type": "execute_result"
    }
   ],
   "source": [
    "con_hull"
   ]
  },
  {
   "cell_type": "code",
   "execution_count": 15,
   "id": "7109dcae",
   "metadata": {},
   "outputs": [],
   "source": [
    "aoi_data_boundary = aoi_data.copy()"
   ]
  },
  {
   "cell_type": "code",
   "execution_count": 16,
   "id": "d01efb50",
   "metadata": {},
   "outputs": [
    {
     "name": "stdout",
     "output_type": "stream",
     "text": [
      "User Guide: https://docs.kepler.gl/docs/keplergl-jupyter\n"
     ]
    },
    {
     "data": {
      "application/vnd.jupyter.widget-view+json": {
       "model_id": "de95751062c24d87a6c647023802fd39",
       "version_major": 2,
       "version_minor": 0
      },
      "text/plain": [
       "KeplerGl(data={'area_of_interest': {'index': [0], 'columns': ['id', 'full_id', 'osm_id', 'osm_type', 'cables',…"
      ]
     },
     "metadata": {},
     "output_type": "display_data"
    }
   ],
   "source": [
    "aoi_data_boundary.at[0,'geometry'] = con_hull\n",
    "base_map_1 = KeplerGl(height=600, width=800)\n",
    "base_map_1.add_data(data=aoi_data_boundary.copy(), name = 'area_of_interest')\n",
    "base_map_1"
   ]
  },
  {
   "cell_type": "code",
   "execution_count": 17,
   "id": "628a94b1",
   "metadata": {},
   "outputs": [
    {
     "name": "stdout",
     "output_type": "stream",
     "text": [
      "User Guide: https://docs.kepler.gl/docs/keplergl-jupyter\n"
     ]
    },
    {
     "data": {
      "application/vnd.jupyter.widget-view+json": {
       "model_id": "7d2a38bfccdd4592a66c14b1d656c6d1",
       "version_major": 2,
       "version_minor": 0
      },
      "text/plain": [
       "KeplerGl(data={'area_of_interest': {'index': [0], 'columns': ['id', 'full_id', 'osm_id', 'osm_type', 'cables',…"
      ]
     },
     "metadata": {},
     "output_type": "display_data"
    }
   ],
   "source": [
    "aoi_data_boundary.at[0,'geometry'] = envelope\n",
    "base_map_1 = KeplerGl(height=600, width=800)\n",
    "base_map_1.add_data(data=aoi_data_boundary.copy(), name = 'area_of_interest')\n",
    "base_map_1"
   ]
  },
  {
   "cell_type": "code",
   "execution_count": 18,
   "id": "d06c7a07",
   "metadata": {},
   "outputs": [
    {
     "data": {
      "text/plain": [
       "<Geographic 2D CRS: EPSG:4326>\n",
       "Name: WGS 84\n",
       "Axis Info [ellipsoidal]:\n",
       "- Lat[north]: Geodetic latitude (degree)\n",
       "- Lon[east]: Geodetic longitude (degree)\n",
       "Area of Use:\n",
       "- name: World.\n",
       "- bounds: (-180.0, -90.0, 180.0, 90.0)\n",
       "Datum: World Geodetic System 1984 ensemble\n",
       "- Ellipsoid: WGS 84\n",
       "- Prime Meridian: Greenwich"
      ]
     },
     "execution_count": 18,
     "metadata": {},
     "output_type": "execute_result"
    }
   ],
   "source": [
    "aoi_data_boundary.crs"
   ]
  },
  {
   "cell_type": "code",
   "execution_count": 19,
   "id": "9f0e401e",
   "metadata": {},
   "outputs": [
    {
     "data": {
      "text/plain": [
       "id                    int64\n",
       "full_id              object\n",
       "osm_id               object\n",
       "osm_type             object\n",
       "cables               object\n",
       "frequency            object\n",
       "gez                  object\n",
       "layer                object\n",
       "name                 object\n",
       "operator             object\n",
       "power                object\n",
       "ref                  object\n",
       "voltage              object\n",
       "wires                object\n",
       "line                 object\n",
       "disused              object\n",
       "circuits             object\n",
       "location             object\n",
       "endpoint:busbar      object\n",
       "geometry           geometry\n",
       "dtype: object"
      ]
     },
     "execution_count": 19,
     "metadata": {},
     "output_type": "execute_result"
    }
   ],
   "source": [
    "aoi_data_boundary.dtypes"
   ]
  },
  {
   "cell_type": "code",
   "execution_count": 20,
   "id": "e8619e36",
   "metadata": {},
   "outputs": [
    {
     "data": {
      "text/plain": [
       "geopandas.geodataframe.GeoDataFrame"
      ]
     },
     "execution_count": 20,
     "metadata": {},
     "output_type": "execute_result"
    }
   ],
   "source": [
    "type(aoi_data_boundary)"
   ]
  },
  {
   "cell_type": "code",
   "execution_count": 21,
   "id": "8d4ba347",
   "metadata": {},
   "outputs": [],
   "source": [
    "aoi_data_boundary = aoi_data_boundary.to_crs(sat_raster12.crs)"
   ]
  },
  {
   "cell_type": "code",
   "execution_count": 22,
   "id": "8bbc08ff",
   "metadata": {},
   "outputs": [
    {
     "data": {
      "text/plain": [
       "<Projected CRS: EPSG:32633>\n",
       "Name: WGS 84 / UTM zone 33N\n",
       "Axis Info [cartesian]:\n",
       "- [east]: Easting (metre)\n",
       "- [north]: Northing (metre)\n",
       "Area of Use:\n",
       "- undefined\n",
       "Coordinate Operation:\n",
       "- name: UTM zone 33N\n",
       "- method: Transverse Mercator\n",
       "Datum: World Geodetic System 1984\n",
       "- Ellipsoid: WGS 84\n",
       "- Prime Meridian: Greenwich"
      ]
     },
     "execution_count": 22,
     "metadata": {},
     "output_type": "execute_result"
    }
   ],
   "source": [
    "aoi_data_boundary.crs"
   ]
  },
  {
   "cell_type": "code",
   "execution_count": 23,
   "id": "153cc3bd",
   "metadata": {},
   "outputs": [],
   "source": [
    "def getFeatures(gdf):\n",
    "    \"\"\"Function to parse features from GeoDataFrame in such a manner that rasterio wants them\"\"\"\n",
    "    import json\n",
    "    return [json.loads(gdf.to_json())['features'][0]['geometry']]"
   ]
  },
  {
   "cell_type": "code",
   "execution_count": 24,
   "id": "81a0a806",
   "metadata": {},
   "outputs": [
    {
     "name": "stdout",
     "output_type": "stream",
     "text": [
      "[{'type': 'Polygon', 'coordinates': [[[396803.9492745674, 5814881.937933052], [403179.0821638094, 5814751.976428645], [403497.1630042527, 5830853.458352127], [397142.98107521195, 5830983.243710982], [396803.9492745674, 5814881.937933052]]]}]\n"
     ]
    }
   ],
   "source": [
    "coords = getFeatures(aoi_data_boundary)\n",
    "print(coords)"
   ]
  },
  {
   "cell_type": "code",
   "execution_count": 25,
   "id": "6c5cf225",
   "metadata": {},
   "outputs": [],
   "source": [
    "from rasterio.mask import mask\n",
    "out_img, out_transform = mask(dataset=sat_raster12, shapes=coords, crop=True)"
   ]
  },
  {
   "cell_type": "markdown",
   "id": "9bfe4075",
   "metadata": {},
   "source": [
    "# Copying the MetaData"
   ]
  },
  {
   "cell_type": "code",
   "execution_count": 26,
   "id": "e8dd5fef",
   "metadata": {},
   "outputs": [
    {
     "name": "stdout",
     "output_type": "stream",
     "text": [
      "{'driver': 'GTiff', 'dtype': 'uint16', 'nodata': None, 'width': 4706, 'height': 4706, 'count': 12, 'crs': CRS.from_epsg(32633), 'transform': Affine(23.33333334041649, 0.0, 300000.0,\n",
      "       0.0, -23.333333340416477, 5900040.0)}\n"
     ]
    }
   ],
   "source": [
    "# Copy the metadata\n",
    "out_meta = sat_raster12.meta.copy()\n",
    "print(out_meta)"
   ]
  },
  {
   "cell_type": "code",
   "execution_count": 27,
   "id": "ebcec68c",
   "metadata": {},
   "outputs": [
    {
     "name": "stdout",
     "output_type": "stream",
     "text": [
      "32633\n"
     ]
    }
   ],
   "source": [
    "epsg_code = int(sat_raster12.crs.data['init'][5:])\n",
    "print(epsg_code)"
   ]
  },
  {
   "cell_type": "code",
   "execution_count": 29,
   "id": "8628c762",
   "metadata": {},
   "outputs": [],
   "source": [
    "out_meta.update({\"driver\": \"GTiff\",\n",
    "                 \"height\": out_img.shape[1],\n",
    "                 \"width\": out_img.shape[2],\n",
    "                 \"transform\": out_transform,\n",
    "                 \"crs\": pycrs.parse.from_epsg_code(epsg_code).to_proj4()}\n",
    "                         )"
   ]
  },
  {
   "cell_type": "code",
   "execution_count": 33,
   "id": "57eb4618",
   "metadata": {},
   "outputs": [],
   "source": [
    "with rio.open(r'data\\final_output.tif', \"w\", **out_meta) as dest:\n",
    "        dest.write(out_img)"
   ]
  },
  {
   "cell_type": "code",
   "execution_count": 37,
   "id": "e177c81b",
   "metadata": {},
   "outputs": [
    {
     "data": {
      "image/png": "[encoded data removed]",
      "text/plain": [
       "<Figure size 432x288 with 1 Axes>"
      ]
     },
     "metadata": {
      "needs_background": "light"
     },
     "output_type": "display_data"
    },
    {
     "data": {
      "text/plain": [
       "<AxesSubplot:>"
      ]
     },
     "execution_count": 37,
     "metadata": {},
     "output_type": "execute_result"
    }
   ],
   "source": [
    "clipped = rio.open(r'data\\final_output.tif')\n",
    "\n",
    "# Visualize\n",
    "show((clipped, 5), cmap='terrain')"
   ]
  }
 ],
 "metadata": {
  "kernelspec": {
   "display_name": "Python 3 (ipykernel)",
   "language": "python",
   "name": "python3"
  },
  "language_info": {
   "codemirror_mode": {
    "name": "ipython",
    "version": 3
   },
   "file_extension": ".py",
   "mimetype": "text/x-python",
   "name": "python",
   "nbconvert_exporter": "python",
   "pygments_lexer": "ipython3",
   "version": "3.7.10"
  }
 },
 "nbformat": 4,
 "nbformat_minor": 5
}
