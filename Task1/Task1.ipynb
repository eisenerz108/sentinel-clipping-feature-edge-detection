{
 "cells": [
  {
   "cell_type": "code",
   "execution_count": 1,
   "id": "53bcefa6",
   "metadata": {},
   "outputs": [],
   "source": [
    "# Importing all the Necessary Packages\n",
    "import os\n",
    "import geopandas as gpd\n",
    "from keplergl import KeplerGl\n",
    "from rasterio.plot import show\n",
    "import rasterio as rio\n",
    "import pycrs"
   ]
  },
  {
   "cell_type": "code",
   "execution_count": 2,
   "id": "5e00f555",
   "metadata": {
    "scrolled": true
   },
   "outputs": [
    {
     "data": {
      "text/html": [
       "<div>\n",
       "<style scoped>\n",
       "    .dataframe tbody tr th:only-of-type {\n",
       "        vertical-align: middle;\n",
       "    }\n",
       "\n",
       "    .dataframe tbody tr th {\n",
       "        vertical-align: top;\n",
       "    }\n",
       "\n",
       "    .dataframe thead th {\n",
       "        text-align: right;\n",
       "    }\n",
       "</style>\n",
       "<table border=\"1\" class=\"dataframe\">\n",
       "  <thead>\n",
       "    <tr style=\"text-align: right;\">\n",
       "      <th></th>\n",
       "      <th>id</th>\n",
       "      <th>full_id</th>\n",
       "      <th>osm_id</th>\n",
       "      <th>osm_type</th>\n",
       "      <th>cables</th>\n",
       "      <th>frequency</th>\n",
       "      <th>gez</th>\n",
       "      <th>layer</th>\n",
       "      <th>name</th>\n",
       "      <th>operator</th>\n",
       "      <th>power</th>\n",
       "      <th>ref</th>\n",
       "      <th>voltage</th>\n",
       "      <th>wires</th>\n",
       "      <th>line</th>\n",
       "      <th>disused</th>\n",
       "      <th>circuits</th>\n",
       "      <th>location</th>\n",
       "      <th>endpoint:busbar</th>\n",
       "      <th>geometry</th>\n",
       "    </tr>\n",
       "  </thead>\n",
       "  <tbody>\n",
       "    <tr>\n",
       "      <th>0</th>\n",
       "      <td>1</td>\n",
       "      <td>w166885638</td>\n",
       "      <td>166885638</td>\n",
       "      <td>way</td>\n",
       "      <td>3</td>\n",
       "      <td>50</td>\n",
       "      <td></td>\n",
       "      <td></td>\n",
       "      <td></td>\n",
       "      <td>Stromnetz Berlin</td>\n",
       "      <td>line</td>\n",
       "      <td>806</td>\n",
       "      <td>110000</td>\n",
       "      <td>single</td>\n",
       "      <td></td>\n",
       "      <td></td>\n",
       "      <td></td>\n",
       "      <td></td>\n",
       "      <td></td>\n",
       "      <td>MULTIPOLYGON (((13.53442 52.53548, 13.53289 52...</td>\n",
       "    </tr>\n",
       "  </tbody>\n",
       "</table>\n",
       "</div>"
      ],
      "text/plain": [
       "   id     full_id     osm_id osm_type cables frequency gez layer name  \\\n",
       "0   1  w166885638  166885638      way      3        50                  \n",
       "\n",
       "           operator power  ref voltage   wires line disused circuits location  \\\n",
       "0  Stromnetz Berlin  line  806  110000  single                                  \n",
       "\n",
       "  endpoint:busbar                                           geometry  \n",
       "0                  MULTIPOLYGON (((13.53442 52.53548, 13.53289 52...  "
      ]
     },
     "execution_count": 2,
     "metadata": {},
     "output_type": "execute_result"
    }
   ],
   "source": [
    "folder_path = 'data'\n",
    "file_name = 'remote_sensing_challenge_AOI.geojson'\n",
    "\n",
    "file_path = os.path.join(folder_path, file_name)\n",
    "aoi_data = gpd.read_file(file_path, driver = 'GeoJSON')\n",
    "aoi_data"
   ]
  },
  {
   "cell_type": "code",
   "execution_count": 59,
   "id": "a5fa2fc0",
   "metadata": {},
   "outputs": [],
   "source": [
    "def assertCRSValues(crs1,crs2):\n",
    "    assert crs1 == crs2, 'CRS Values are not matching, please reproject to maintain similar CRS!'"
   ]
  },
  {
   "cell_type": "code",
   "execution_count": 60,
   "id": "d0667738",
   "metadata": {},
   "outputs": [
    {
     "data": {
      "text/plain": [
       "id                    int64\n",
       "full_id              object\n",
       "osm_id               object\n",
       "osm_type             object\n",
       "cables               object\n",
       "frequency            object\n",
       "gez                  object\n",
       "layer                object\n",
       "name                 object\n",
       "operator             object\n",
       "power                object\n",
       "ref                  object\n",
       "voltage              object\n",
       "wires                object\n",
       "line                 object\n",
       "disused              object\n",
       "circuits             object\n",
       "location             object\n",
       "endpoint:busbar      object\n",
       "geometry           geometry\n",
       "dtype: object"
      ]
     },
     "execution_count": 60,
     "metadata": {},
     "output_type": "execute_result"
    }
   ],
   "source": [
    "aoi_data.dtypes"
   ]
  },
  {
   "cell_type": "code",
   "execution_count": 61,
   "id": "3ac7788a",
   "metadata": {},
   "outputs": [
    {
     "data": {
      "text/plain": [
       "<Geographic 2D CRS: EPSG:4326>\n",
       "Name: WGS 84\n",
       "Axis Info [ellipsoidal]:\n",
       "- Lat[north]: Geodetic latitude (degree)\n",
       "- Lon[east]: Geodetic longitude (degree)\n",
       "Area of Use:\n",
       "- name: World.\n",
       "- bounds: (-180.0, -90.0, 180.0, 90.0)\n",
       "Datum: World Geodetic System 1984 ensemble\n",
       "- Ellipsoid: WGS 84\n",
       "- Prime Meridian: Greenwich"
      ]
     },
     "execution_count": 61,
     "metadata": {},
     "output_type": "execute_result"
    }
   ],
   "source": [
    "# Checking the crs of the data\n",
    "aoi_data.crs"
   ]
  },
  {
   "cell_type": "code",
   "execution_count": 62,
   "id": "d4a5a412",
   "metadata": {},
   "outputs": [
    {
     "name": "stdout",
     "output_type": "stream",
     "text": [
      "epsg:32633\n"
     ]
    },
    {
     "ename": "PermissionError",
     "evalue": "[WinError 32] The process cannot access the file because it is being used by another process: 'data\\\\remote_sensing_challenge32633_AOI.geojson'",
     "output_type": "error",
     "traceback": [
      "\u001b[1;31m---------------------------------------------------------------------------\u001b[0m",
      "\u001b[1;31mPermissionError\u001b[0m                           Traceback (most recent call last)",
      "\u001b[1;32m~\\AppData\\Local\\Temp/ipykernel_7480/292787711.py\u001b[0m in \u001b[0;36m<module>\u001b[1;34m\u001b[0m\n\u001b[0;32m      2\u001b[0m \u001b[0maoi_data_32633\u001b[0m \u001b[1;33m=\u001b[0m \u001b[0maoi_data_32633\u001b[0m\u001b[1;33m.\u001b[0m\u001b[0mto_crs\u001b[0m\u001b[1;33m(\u001b[0m\u001b[0mepsg\u001b[0m\u001b[1;33m=\u001b[0m\u001b[1;36m32633\u001b[0m\u001b[1;33m)\u001b[0m\u001b[1;33m\u001b[0m\u001b[1;33m\u001b[0m\u001b[0m\n\u001b[0;32m      3\u001b[0m \u001b[0mprint\u001b[0m\u001b[1;33m(\u001b[0m\u001b[0maoi_data_32633\u001b[0m\u001b[1;33m.\u001b[0m\u001b[0mcrs\u001b[0m\u001b[1;33m)\u001b[0m\u001b[1;33m\u001b[0m\u001b[1;33m\u001b[0m\u001b[0m\n\u001b[1;32m----> 4\u001b[1;33m \u001b[0maoi_data_32633\u001b[0m\u001b[1;33m.\u001b[0m\u001b[0mto_file\u001b[0m\u001b[1;33m(\u001b[0m\u001b[1;34mr'data\\remote_sensing_challenge32633_AOI.geojson'\u001b[0m\u001b[1;33m,\u001b[0m \u001b[0mdriver\u001b[0m \u001b[1;33m=\u001b[0m \u001b[1;34m'GeoJSON'\u001b[0m\u001b[1;33m)\u001b[0m\u001b[1;33m\u001b[0m\u001b[1;33m\u001b[0m\u001b[0m\n\u001b[0m",
      "\u001b[1;32mC:\\TheFourthReich\\anaconda3\\envs\\gisenv\\lib\\site-packages\\geopandas\\geodataframe.py\u001b[0m in \u001b[0;36mto_file\u001b[1;34m(self, filename, driver, schema, index, **kwargs)\u001b[0m\n\u001b[0;32m   1084\u001b[0m         \u001b[1;32mfrom\u001b[0m \u001b[0mgeopandas\u001b[0m\u001b[1;33m.\u001b[0m\u001b[0mio\u001b[0m\u001b[1;33m.\u001b[0m\u001b[0mfile\u001b[0m \u001b[1;32mimport\u001b[0m \u001b[0m_to_file\u001b[0m\u001b[1;33m\u001b[0m\u001b[1;33m\u001b[0m\u001b[0m\n\u001b[0;32m   1085\u001b[0m \u001b[1;33m\u001b[0m\u001b[0m\n\u001b[1;32m-> 1086\u001b[1;33m         \u001b[0m_to_file\u001b[0m\u001b[1;33m(\u001b[0m\u001b[0mself\u001b[0m\u001b[1;33m,\u001b[0m \u001b[0mfilename\u001b[0m\u001b[1;33m,\u001b[0m \u001b[0mdriver\u001b[0m\u001b[1;33m,\u001b[0m \u001b[0mschema\u001b[0m\u001b[1;33m,\u001b[0m \u001b[0mindex\u001b[0m\u001b[1;33m,\u001b[0m \u001b[1;33m**\u001b[0m\u001b[0mkwargs\u001b[0m\u001b[1;33m)\u001b[0m\u001b[1;33m\u001b[0m\u001b[1;33m\u001b[0m\u001b[0m\n\u001b[0m\u001b[0;32m   1087\u001b[0m \u001b[1;33m\u001b[0m\u001b[0m\n\u001b[0;32m   1088\u001b[0m     \u001b[1;32mdef\u001b[0m \u001b[0mset_crs\u001b[0m\u001b[1;33m(\u001b[0m\u001b[0mself\u001b[0m\u001b[1;33m,\u001b[0m \u001b[0mcrs\u001b[0m\u001b[1;33m=\u001b[0m\u001b[1;32mNone\u001b[0m\u001b[1;33m,\u001b[0m \u001b[0mepsg\u001b[0m\u001b[1;33m=\u001b[0m\u001b[1;32mNone\u001b[0m\u001b[1;33m,\u001b[0m \u001b[0minplace\u001b[0m\u001b[1;33m=\u001b[0m\u001b[1;32mFalse\u001b[0m\u001b[1;33m,\u001b[0m \u001b[0mallow_override\u001b[0m\u001b[1;33m=\u001b[0m\u001b[1;32mFalse\u001b[0m\u001b[1;33m)\u001b[0m\u001b[1;33m:\u001b[0m\u001b[1;33m\u001b[0m\u001b[1;33m\u001b[0m\u001b[0m\n",
      "\u001b[1;32mC:\\TheFourthReich\\anaconda3\\envs\\gisenv\\lib\\site-packages\\geopandas\\io\\file.py\u001b[0m in \u001b[0;36m_to_file\u001b[1;34m(df, filename, driver, schema, index, mode, crs, **kwargs)\u001b[0m\n\u001b[0;32m    326\u001b[0m             \u001b[0mcrs_wkt\u001b[0m \u001b[1;33m=\u001b[0m \u001b[0mcrs\u001b[0m\u001b[1;33m.\u001b[0m\u001b[0mto_wkt\u001b[0m\u001b[1;33m(\u001b[0m\u001b[1;34m\"WKT1_GDAL\"\u001b[0m\u001b[1;33m)\u001b[0m\u001b[1;33m\u001b[0m\u001b[1;33m\u001b[0m\u001b[0m\n\u001b[0;32m    327\u001b[0m         with fiona.open(\n\u001b[1;32m--> 328\u001b[1;33m             \u001b[0mfilename\u001b[0m\u001b[1;33m,\u001b[0m \u001b[0mmode\u001b[0m\u001b[1;33m=\u001b[0m\u001b[0mmode\u001b[0m\u001b[1;33m,\u001b[0m \u001b[0mdriver\u001b[0m\u001b[1;33m=\u001b[0m\u001b[0mdriver\u001b[0m\u001b[1;33m,\u001b[0m \u001b[0mcrs_wkt\u001b[0m\u001b[1;33m=\u001b[0m\u001b[0mcrs_wkt\u001b[0m\u001b[1;33m,\u001b[0m \u001b[0mschema\u001b[0m\u001b[1;33m=\u001b[0m\u001b[0mschema\u001b[0m\u001b[1;33m,\u001b[0m \u001b[1;33m**\u001b[0m\u001b[0mkwargs\u001b[0m\u001b[1;33m\u001b[0m\u001b[1;33m\u001b[0m\u001b[0m\n\u001b[0m\u001b[0;32m    329\u001b[0m         ) as colxn:\n\u001b[0;32m    330\u001b[0m             \u001b[0mcolxn\u001b[0m\u001b[1;33m.\u001b[0m\u001b[0mwriterecords\u001b[0m\u001b[1;33m(\u001b[0m\u001b[0mdf\u001b[0m\u001b[1;33m.\u001b[0m\u001b[0miterfeatures\u001b[0m\u001b[1;33m(\u001b[0m\u001b[1;33m)\u001b[0m\u001b[1;33m)\u001b[0m\u001b[1;33m\u001b[0m\u001b[1;33m\u001b[0m\u001b[0m\n",
      "\u001b[1;32mC:\\TheFourthReich\\anaconda3\\envs\\gisenv\\lib\\site-packages\\fiona\\env.py\u001b[0m in \u001b[0;36mwrapper\u001b[1;34m(*args, **kwargs)\u001b[0m\n\u001b[0;32m    406\u001b[0m     \u001b[1;32mdef\u001b[0m \u001b[0mwrapper\u001b[0m\u001b[1;33m(\u001b[0m\u001b[1;33m*\u001b[0m\u001b[0margs\u001b[0m\u001b[1;33m,\u001b[0m \u001b[1;33m**\u001b[0m\u001b[0mkwargs\u001b[0m\u001b[1;33m)\u001b[0m\u001b[1;33m:\u001b[0m\u001b[1;33m\u001b[0m\u001b[1;33m\u001b[0m\u001b[0m\n\u001b[0;32m    407\u001b[0m         \u001b[1;32mif\u001b[0m \u001b[0mlocal\u001b[0m\u001b[1;33m.\u001b[0m\u001b[0m_env\u001b[0m\u001b[1;33m:\u001b[0m\u001b[1;33m\u001b[0m\u001b[1;33m\u001b[0m\u001b[0m\n\u001b[1;32m--> 408\u001b[1;33m             \u001b[1;32mreturn\u001b[0m \u001b[0mf\u001b[0m\u001b[1;33m(\u001b[0m\u001b[1;33m*\u001b[0m\u001b[0margs\u001b[0m\u001b[1;33m,\u001b[0m \u001b[1;33m**\u001b[0m\u001b[0mkwargs\u001b[0m\u001b[1;33m)\u001b[0m\u001b[1;33m\u001b[0m\u001b[1;33m\u001b[0m\u001b[0m\n\u001b[0m\u001b[0;32m    409\u001b[0m         \u001b[1;32melse\u001b[0m\u001b[1;33m:\u001b[0m\u001b[1;33m\u001b[0m\u001b[1;33m\u001b[0m\u001b[0m\n\u001b[0;32m    410\u001b[0m             \u001b[1;32mif\u001b[0m \u001b[0misinstance\u001b[0m\u001b[1;33m(\u001b[0m\u001b[0margs\u001b[0m\u001b[1;33m[\u001b[0m\u001b[1;36m0\u001b[0m\u001b[1;33m]\u001b[0m\u001b[1;33m,\u001b[0m \u001b[0mstr\u001b[0m\u001b[1;33m)\u001b[0m\u001b[1;33m:\u001b[0m\u001b[1;33m\u001b[0m\u001b[1;33m\u001b[0m\u001b[0m\n",
      "\u001b[1;32mC:\\TheFourthReich\\anaconda3\\envs\\gisenv\\lib\\site-packages\\fiona\\__init__.py\u001b[0m in \u001b[0;36mopen\u001b[1;34m(fp, mode, driver, schema, crs, encoding, layer, vfs, enabled_drivers, crs_wkt, **kwargs)\u001b[0m\n\u001b[0;32m    272\u001b[0m             c = Collection(path, mode, crs=crs, driver=driver, schema=this_schema,\n\u001b[0;32m    273\u001b[0m                            \u001b[0mencoding\u001b[0m\u001b[1;33m=\u001b[0m\u001b[0mencoding\u001b[0m\u001b[1;33m,\u001b[0m \u001b[0mlayer\u001b[0m\u001b[1;33m=\u001b[0m\u001b[0mlayer\u001b[0m\u001b[1;33m,\u001b[0m \u001b[0menabled_drivers\u001b[0m\u001b[1;33m=\u001b[0m\u001b[0menabled_drivers\u001b[0m\u001b[1;33m,\u001b[0m \u001b[0mcrs_wkt\u001b[0m\u001b[1;33m=\u001b[0m\u001b[0mcrs_wkt\u001b[0m\u001b[1;33m,\u001b[0m\u001b[1;33m\u001b[0m\u001b[1;33m\u001b[0m\u001b[0m\n\u001b[1;32m--> 274\u001b[1;33m                            **kwargs)\n\u001b[0m\u001b[0;32m    275\u001b[0m         \u001b[1;32melse\u001b[0m\u001b[1;33m:\u001b[0m\u001b[1;33m\u001b[0m\u001b[1;33m\u001b[0m\u001b[0m\n\u001b[0;32m    276\u001b[0m             raise ValueError(\n",
      "\u001b[1;32mC:\\TheFourthReich\\anaconda3\\envs\\gisenv\\lib\\site-packages\\fiona\\collection.py\u001b[0m in \u001b[0;36m__init__\u001b[1;34m(self, path, mode, driver, schema, crs, encoding, layer, vsi, archive, enabled_drivers, crs_wkt, ignore_fields, ignore_geometry, **kwargs)\u001b[0m\n\u001b[0;32m    163\u001b[0m             \u001b[1;32melif\u001b[0m \u001b[0mself\u001b[0m\u001b[1;33m.\u001b[0m\u001b[0mmode\u001b[0m \u001b[1;32min\u001b[0m \u001b[1;33m(\u001b[0m\u001b[1;34m'a'\u001b[0m\u001b[1;33m,\u001b[0m \u001b[1;34m'w'\u001b[0m\u001b[1;33m)\u001b[0m\u001b[1;33m:\u001b[0m\u001b[1;33m\u001b[0m\u001b[1;33m\u001b[0m\u001b[0m\n\u001b[0;32m    164\u001b[0m                 \u001b[0mself\u001b[0m\u001b[1;33m.\u001b[0m\u001b[0msession\u001b[0m \u001b[1;33m=\u001b[0m \u001b[0mWritingSession\u001b[0m\u001b[1;33m(\u001b[0m\u001b[1;33m)\u001b[0m\u001b[1;33m\u001b[0m\u001b[1;33m\u001b[0m\u001b[0m\n\u001b[1;32m--> 165\u001b[1;33m                 \u001b[0mself\u001b[0m\u001b[1;33m.\u001b[0m\u001b[0msession\u001b[0m\u001b[1;33m.\u001b[0m\u001b[0mstart\u001b[0m\u001b[1;33m(\u001b[0m\u001b[0mself\u001b[0m\u001b[1;33m,\u001b[0m \u001b[1;33m**\u001b[0m\u001b[0mkwargs\u001b[0m\u001b[1;33m)\u001b[0m\u001b[1;33m\u001b[0m\u001b[1;33m\u001b[0m\u001b[0m\n\u001b[0m\u001b[0;32m    166\u001b[0m         \u001b[1;32mexcept\u001b[0m \u001b[0mIOError\u001b[0m\u001b[1;33m:\u001b[0m\u001b[1;33m\u001b[0m\u001b[1;33m\u001b[0m\u001b[0m\n\u001b[0;32m    167\u001b[0m             \u001b[0mself\u001b[0m\u001b[1;33m.\u001b[0m\u001b[0msession\u001b[0m \u001b[1;33m=\u001b[0m \u001b[1;32mNone\u001b[0m\u001b[1;33m\u001b[0m\u001b[1;33m\u001b[0m\u001b[0m\n",
      "\u001b[1;32mfiona/ogrext.pyx\u001b[0m in \u001b[0;36mfiona.ogrext.WritingSession.start\u001b[1;34m()\u001b[0m\n",
      "\u001b[1;31mPermissionError\u001b[0m: [WinError 32] The process cannot access the file because it is being used by another process: 'data\\\\remote_sensing_challenge32633_AOI.geojson'"
     ]
    }
   ],
   "source": [
    "aoi_data_32633 = aoi_data.copy()\n",
    "aoi_data_32633 = aoi_data_32633.to_crs(epsg=32633)\n",
    "print(aoi_data_32633.crs)\n",
    "aoi_data_32633.to_file(r'data\\remote_sensing_challenge32633_AOI.geojson', driver = 'GeoJSON')"
   ]
  },
  {
   "cell_type": "code",
   "execution_count": 7,
   "id": "679a4769",
   "metadata": {},
   "outputs": [
    {
     "data": {
      "text/plain": [
       "<AxesSubplot:>"
      ]
     },
     "execution_count": 7,
     "metadata": {},
     "output_type": "execute_result"
    },
    {
     "data": {
      "image/png": "[encoded data removed]",
      "text/plain": [
       "<Figure size 432x288 with 1 Axes>"
      ]
     },
     "metadata": {
      "needs_background": "light"
     },
     "output_type": "display_data"
    }
   ],
   "source": [
    "aoi_data.plot()"
   ]
  },
  {
   "cell_type": "markdown",
   "id": "d985ec6a",
   "metadata": {},
   "source": [
    "# Checking the Location of the Data using Kepler GL"
   ]
  },
  {
   "cell_type": "code",
   "execution_count": 8,
   "id": "152b3a17",
   "metadata": {
    "scrolled": true
   },
   "outputs": [
    {
     "name": "stdout",
     "output_type": "stream",
     "text": [
      "User Guide: https://docs.kepler.gl/docs/keplergl-jupyter\n"
     ]
    },
    {
     "data": {
      "application/vnd.jupyter.widget-view+json": {
       "model_id": "8f9e324fa3374920a13c4225db81d25e",
       "version_major": 2,
       "version_minor": 0
      },
      "text/plain": [
       "KeplerGl(data={'area_of_interest': {'index': [0], 'columns': ['id', 'full_id', 'osm_id', 'osm_type', 'cables',…"
      ]
     },
     "metadata": {},
     "output_type": "display_data"
    }
   ],
   "source": [
    "base_map = KeplerGl(height=600, width=800)\n",
    "base_map.add_data(data=aoi_data.copy(), name = 'area_of_interest')\n",
    "base_map"
   ]
  },
  {
   "cell_type": "markdown",
   "id": "89defe31",
   "metadata": {},
   "source": [
    "# Processing the Raster Data (Merged - 13 Bands)"
   ]
  },
  {
   "cell_type": "code",
   "execution_count": 9,
   "id": "174eec04",
   "metadata": {},
   "outputs": [],
   "source": [
    "raster_folder_path = r'data'\n",
    "raster_file_name = r'mergedBandswithSCL.tif'\n",
    "raster_file = os.path.join(raster_folder_path, raster_file_name)\n",
    "sat_raster12 = rio.open(raster_file)"
   ]
  },
  {
   "cell_type": "code",
   "execution_count": 10,
   "id": "eceb52c6",
   "metadata": {},
   "outputs": [
    {
     "name": "stdout",
     "output_type": "stream",
     "text": [
      "Data type of the file imported <class 'rasterio.io.DatasetReader'>\n",
      "Number of bands in the TIF file is  13\n",
      "CRS is EPSG:32633\n"
     ]
    }
   ],
   "source": [
    "print('Data type of the file imported',type(sat_raster12))\n",
    "print('Number of bands in the TIF file is ',sat_raster12.count)\n",
    "print('CRS is', sat_raster12.crs)"
   ]
  },
  {
   "cell_type": "markdown",
   "id": "7c4a5053",
   "metadata": {},
   "source": [
    "# Clipping the Raster Data with the AOI"
   ]
  },
  {
   "cell_type": "code",
   "execution_count": 11,
   "id": "f584a82b",
   "metadata": {},
   "outputs": [],
   "source": [
    "aoi_geom = aoi_data.at[0,'geometry']"
   ]
  },
  {
   "cell_type": "code",
   "execution_count": 12,
   "id": "cad5a65b",
   "metadata": {},
   "outputs": [
    {
     "data": {
      "text/plain": [
       "shapely.geometry.multipolygon.MultiPolygon"
      ]
     },
     "execution_count": 12,
     "metadata": {},
     "output_type": "execute_result"
    }
   ],
   "source": [
    "type(aoi_geom)"
   ]
  },
  {
   "cell_type": "code",
   "execution_count": 13,
   "id": "6b275caa",
   "metadata": {},
   "outputs": [],
   "source": [
    "envelope = aoi_geom.envelope"
   ]
  },
  {
   "cell_type": "code",
   "execution_count": 14,
   "id": "d3c90f96",
   "metadata": {},
   "outputs": [
    {
     "data": {
      "image/svg+xml": [
       "<svg xmlns=\"http://www.w3.org/2000/svg\" xmlns:xlink=\"http://www.w3.org/1999/xlink\" width=\"100.0\" height=\"100.0\" viewBox=\"13.474845235044649 52.46853934743289 0.10544803616868847 0.15634717993696512\" preserveAspectRatio=\"xMinYMin meet\"><g transform=\"matrix(1,0,0,-1,0,105.09342587480273)\"><path fill-rule=\"evenodd\" fill=\"#66cc99\" stroke=\"#555555\" stroke-width=\"0.0031269435987393026\" opacity=\"0.6\" d=\"M 13.480635871338611,52.47432998372685 L 13.574502634919375,52.47432998372685 L 13.574502634919375,52.619095891075894 L 13.480635871338611,52.619095891075894 L 13.480635871338611,52.47432998372685 z\" /></g></svg>"
      ],
      "text/plain": [
       "<shapely.geometry.polygon.Polygon at 0x248cc2d5448>"
      ]
     },
     "execution_count": 14,
     "metadata": {},
     "output_type": "execute_result"
    }
   ],
   "source": [
    "envelope"
   ]
  },
  {
   "cell_type": "code",
   "execution_count": 15,
   "id": "ead3e3e6",
   "metadata": {},
   "outputs": [],
   "source": [
    "con_hull = aoi_geom.convex_hull"
   ]
  },
  {
   "cell_type": "code",
   "execution_count": 16,
   "id": "d9fd0aad",
   "metadata": {},
   "outputs": [
    {
     "data": {
      "image/svg+xml": [
       "<svg xmlns=\"http://www.w3.org/2000/svg\" xmlns:xlink=\"http://www.w3.org/1999/xlink\" width=\"100.0\" height=\"100.0\" viewBox=\"13.474845235044649 52.46853934743289 0.10544803616868847 0.15634717993696512\" preserveAspectRatio=\"xMinYMin meet\"><g transform=\"matrix(1,0,0,-1,0,105.09342587480273)\"><path fill-rule=\"evenodd\" fill=\"#66cc99\" stroke=\"#555555\" stroke-width=\"0.0031269435987393026\" opacity=\"0.6\" d=\"M 13.505350708709212,52.47432998372685 L 13.505122856705086,52.47434934935919 L 13.504915956124075,52.474410762032974 L 13.50475025944885,52.47450821041423 L 13.504641986223879,52.47463215577679 L 13.503446456033219,52.47674304943272 L 13.503406898406782,52.47686849360788 L 13.480823711989093,52.57654509742674 L 13.480816716260968,52.576591002013515 L 13.480635871338611,52.57926250188295 L 13.480643958015827,52.57934983484239 L 13.481085930206918,52.58108523817491 L 13.481158613528683,52.581221503510044 L 13.48307958970859,52.58350011466962 L 13.515779450944091,52.61883783114316 L 13.515907612842733,52.618954657926274 L 13.516088819506132,52.61904166255759 L 13.516305332985377,52.619090328225504 L 13.516535958912145,52.619095891075894 L 13.516758121349918,52.61905780657699 L 13.51695007293757,52.61897980282244 L 13.517093023884144,52.618869515554536 L 13.574407616182823,52.561062698488854 L 13.574490388992803,52.56093159818492 L 13.574502634919375,52.56079132624305 L 13.574443155906614,52.56065561346467 L 13.541522162386705,52.49782125295437 L 13.541431861710883,52.49769166554278 L 13.541280232251562,52.49758552303632 L 13.505939773668159,52.474521853859684 L 13.505780186839978,52.4744206745978 L 13.505577209021578,52.474354560710154 L 13.505350708709212,52.47432998372685 z\" /></g></svg>"
      ],
      "text/plain": [
       "<shapely.geometry.polygon.Polygon at 0x248cc349288>"
      ]
     },
     "execution_count": 16,
     "metadata": {},
     "output_type": "execute_result"
    }
   ],
   "source": [
    "con_hull"
   ]
  },
  {
   "cell_type": "code",
   "execution_count": 17,
   "id": "e3cbf402",
   "metadata": {},
   "outputs": [],
   "source": [
    "aoi_data_boundary = aoi_data.copy()"
   ]
  },
  {
   "cell_type": "code",
   "execution_count": 18,
   "id": "26be2ef0",
   "metadata": {},
   "outputs": [
    {
     "name": "stdout",
     "output_type": "stream",
     "text": [
      "User Guide: https://docs.kepler.gl/docs/keplergl-jupyter\n"
     ]
    },
    {
     "data": {
      "application/vnd.jupyter.widget-view+json": {
       "model_id": "4ca2516aff8f40c39bdce0da2b10d625",
       "version_major": 2,
       "version_minor": 0
      },
      "text/plain": [
       "KeplerGl(data={'area_of_interest': {'index': [0], 'columns': ['id', 'full_id', 'osm_id', 'osm_type', 'cables',…"
      ]
     },
     "metadata": {},
     "output_type": "display_data"
    }
   ],
   "source": [
    "aoi_data_boundary.at[0,'geometry'] = con_hull\n",
    "base_map_1 = KeplerGl(height=600, width=800)\n",
    "base_map_1.add_data(data=aoi_data_boundary.copy(), name = 'area_of_interest')\n",
    "base_map_1"
   ]
  },
  {
   "cell_type": "code",
   "execution_count": 19,
   "id": "aa51587d",
   "metadata": {},
   "outputs": [
    {
     "name": "stdout",
     "output_type": "stream",
     "text": [
      "User Guide: https://docs.kepler.gl/docs/keplergl-jupyter\n"
     ]
    },
    {
     "data": {
      "application/vnd.jupyter.widget-view+json": {
       "model_id": "c1dec9b919f84f23acaa806238f9dd63",
       "version_major": 2,
       "version_minor": 0
      },
      "text/plain": [
       "KeplerGl(data={'area_of_interest': {'index': [0], 'columns': ['id', 'full_id', 'osm_id', 'osm_type', 'cables',…"
      ]
     },
     "metadata": {},
     "output_type": "display_data"
    }
   ],
   "source": [
    "aoi_data_boundary.at[0,'geometry'] = envelope\n",
    "base_map_1 = KeplerGl(height=600, width=800)\n",
    "base_map_1.add_data(data=aoi_data_boundary.copy(), name = 'area_of_interest')\n",
    "base_map_1"
   ]
  },
  {
   "cell_type": "code",
   "execution_count": 20,
   "id": "95392a66",
   "metadata": {},
   "outputs": [
    {
     "data": {
      "text/plain": [
       "<Geographic 2D CRS: EPSG:4326>\n",
       "Name: WGS 84\n",
       "Axis Info [ellipsoidal]:\n",
       "- Lat[north]: Geodetic latitude (degree)\n",
       "- Lon[east]: Geodetic longitude (degree)\n",
       "Area of Use:\n",
       "- name: World.\n",
       "- bounds: (-180.0, -90.0, 180.0, 90.0)\n",
       "Datum: World Geodetic System 1984 ensemble\n",
       "- Ellipsoid: WGS 84\n",
       "- Prime Meridian: Greenwich"
      ]
     },
     "execution_count": 20,
     "metadata": {},
     "output_type": "execute_result"
    }
   ],
   "source": [
    "aoi_data_boundary.crs"
   ]
  },
  {
   "cell_type": "code",
   "execution_count": 21,
   "id": "a6a73a9d",
   "metadata": {},
   "outputs": [
    {
     "data": {
      "text/plain": [
       "id                    int64\n",
       "full_id              object\n",
       "osm_id               object\n",
       "osm_type             object\n",
       "cables               object\n",
       "frequency            object\n",
       "gez                  object\n",
       "layer                object\n",
       "name                 object\n",
       "operator             object\n",
       "power                object\n",
       "ref                  object\n",
       "voltage              object\n",
       "wires                object\n",
       "line                 object\n",
       "disused              object\n",
       "circuits             object\n",
       "location             object\n",
       "endpoint:busbar      object\n",
       "geometry           geometry\n",
       "dtype: object"
      ]
     },
     "execution_count": 21,
     "metadata": {},
     "output_type": "execute_result"
    }
   ],
   "source": [
    "aoi_data_boundary.dtypes"
   ]
  },
  {
   "cell_type": "code",
   "execution_count": 22,
   "id": "dd7f3f4a",
   "metadata": {},
   "outputs": [
    {
     "data": {
      "text/plain": [
       "geopandas.geodataframe.GeoDataFrame"
      ]
     },
     "execution_count": 22,
     "metadata": {},
     "output_type": "execute_result"
    }
   ],
   "source": [
    "type(aoi_data_boundary)"
   ]
  },
  {
   "cell_type": "code",
   "execution_count": 23,
   "id": "6e7b3e1f",
   "metadata": {},
   "outputs": [],
   "source": [
    "aoi_data_boundary = aoi_data_boundary.to_crs(sat_raster12.crs)"
   ]
  },
  {
   "cell_type": "code",
   "execution_count": 24,
   "id": "8ab4f001",
   "metadata": {},
   "outputs": [
    {
     "data": {
      "text/plain": [
       "<Projected CRS: EPSG:32633>\n",
       "Name: WGS 84 / UTM zone 33N\n",
       "Axis Info [cartesian]:\n",
       "- [east]: Easting (metre)\n",
       "- [north]: Northing (metre)\n",
       "Area of Use:\n",
       "- undefined\n",
       "Coordinate Operation:\n",
       "- name: UTM zone 33N\n",
       "- method: Transverse Mercator\n",
       "Datum: World Geodetic System 1984\n",
       "- Ellipsoid: WGS 84\n",
       "- Prime Meridian: Greenwich"
      ]
     },
     "execution_count": 24,
     "metadata": {},
     "output_type": "execute_result"
    }
   ],
   "source": [
    "aoi_data_boundary.crs"
   ]
  },
  {
   "cell_type": "code",
   "execution_count": 25,
   "id": "044dc90d",
   "metadata": {},
   "outputs": [],
   "source": [
    "def getFeatures(gdf):\n",
    "    \"\"\"Function to parse features from GeoDataFrame in such a manner that rasterio wants them\"\"\"\n",
    "    import json\n",
    "    return [json.loads(gdf.to_json())['features'][0]['geometry']]"
   ]
  },
  {
   "cell_type": "code",
   "execution_count": 26,
   "id": "62a3396c",
   "metadata": {},
   "outputs": [
    {
     "name": "stdout",
     "output_type": "stream",
     "text": [
      "<class 'list'>\n",
      "[{'type': 'Polygon', 'coordinates': [[[396803.9492745674, 5814881.937933052], [403179.0821638094, 5814751.976428645], [403497.1630042527, 5830853.458352127], [397142.98107521195, 5830983.243710982], [396803.9492745674, 5814881.937933052]]]}]\n"
     ]
    }
   ],
   "source": [
    "coords = getFeatures(aoi_data_boundary)\n",
    "print(type(coords))\n",
    "print(coords)"
   ]
  },
  {
   "cell_type": "code",
   "execution_count": 29,
   "id": "c73ff47d",
   "metadata": {},
   "outputs": [],
   "source": [
    "from rasterio.mask import mask\n",
    "out_img, out_transform = mask(dataset=sat_raster12, shapes=coords, crop=True)"
   ]
  },
  {
   "cell_type": "markdown",
   "id": "1b7f3334",
   "metadata": {},
   "source": [
    "# Copying the MetaData"
   ]
  },
  {
   "cell_type": "code",
   "execution_count": 30,
   "id": "2bf80272",
   "metadata": {},
   "outputs": [
    {
     "name": "stdout",
     "output_type": "stream",
     "text": [
      "{'driver': 'GTiff', 'dtype': 'uint16', 'nodata': 0.0, 'width': 4758, 'height': 4758, 'count': 13, 'crs': CRS.from_epsg(32633), 'transform': Affine(23.076923076923077, 0.0, 300000.0,\n",
      "       0.0, -23.076923076923077, 5900040.0)}\n"
     ]
    }
   ],
   "source": [
    "# Copy the metadata\n",
    "out_meta = sat_raster12.meta.copy()\n",
    "print(out_meta)"
   ]
  },
  {
   "cell_type": "code",
   "execution_count": 31,
   "id": "71cc483b",
   "metadata": {},
   "outputs": [
    {
     "data": {
      "text/plain": [
       "{'init': 'epsg:32633'}"
      ]
     },
     "execution_count": 31,
     "metadata": {},
     "output_type": "execute_result"
    }
   ],
   "source": [
    "sat_raster12.crs.data"
   ]
  },
  {
   "cell_type": "code",
   "execution_count": 32,
   "id": "fac63ed5",
   "metadata": {},
   "outputs": [
    {
     "name": "stdout",
     "output_type": "stream",
     "text": [
      "32633\n"
     ]
    }
   ],
   "source": [
    "epsg_code = int(sat_raster12.crs.data['init'][5:])\n",
    "print(epsg_code)"
   ]
  },
  {
   "cell_type": "code",
   "execution_count": 44,
   "id": "03410bfc",
   "metadata": {},
   "outputs": [],
   "source": [
    "out_meta.update({\"driver\": \"GTiff\",\n",
    "                 \"height\": out_img.shape[1],\n",
    "                 \"width\": out_img.shape[2],\n",
    "                 \"transform\": out_transform,\n",
    "                 \"crs\": pycrs.parse.from_epsg_code(epsg_code).to_proj4()}\n",
    "                         )"
   ]
  },
  {
   "cell_type": "code",
   "execution_count": 45,
   "id": "fbcad742",
   "metadata": {},
   "outputs": [],
   "source": [
    "with rio.open(r'data\\clippedGeoTIFF.tif', \"w\", **out_meta) as dest:\n",
    "        dest.write(out_img)"
   ]
  },
  {
   "cell_type": "code",
   "execution_count": 51,
   "id": "3226f248",
   "metadata": {},
   "outputs": [
    {
     "data": {
      "image/png": "[encoded data removed]",
      "text/plain": [
       "<Figure size 432x288 with 1 Axes>"
      ]
     },
     "metadata": {
      "needs_background": "light"
     },
     "output_type": "display_data"
    },
    {
     "data": {
      "text/plain": [
       "<AxesSubplot:>"
      ]
     },
     "execution_count": 51,
     "metadata": {},
     "output_type": "execute_result"
    }
   ],
   "source": [
    "clipped = rio.open(r'data\\clippedGeoTIFF_32633.tif')\n",
    "\n",
    "# Visualize\n",
    "show((clipped, 5), cmap='terrain')"
   ]
  },
  {
   "cell_type": "code",
   "execution_count": 58,
   "id": "5e338a14",
   "metadata": {},
   "outputs": [],
   "source": [
    "assertCRSValues(clipped.crs,sat_raster12.crs)"
   ]
  },
  {
   "cell_type": "code",
   "execution_count": 52,
   "id": "83293694",
   "metadata": {},
   "outputs": [
    {
     "data": {
      "text/plain": [
       "CRS.from_epsg(32633)"
      ]
     },
     "execution_count": 52,
     "metadata": {},
     "output_type": "execute_result"
    }
   ],
   "source": [
    "clipped.crs"
   ]
  },
  {
   "cell_type": "code",
   "execution_count": 50,
   "id": "7739851c",
   "metadata": {},
   "outputs": [
    {
     "data": {
      "text/plain": [
       "rasterio.io.DatasetReader"
      ]
     },
     "execution_count": 50,
     "metadata": {},
     "output_type": "execute_result"
    }
   ],
   "source": [
    "type(clipped)"
   ]
  },
  {
   "cell_type": "code",
   "execution_count": 49,
   "id": "4ab2ad93",
   "metadata": {},
   "outputs": [
    {
     "ename": "AttributeError",
     "evalue": "'DatasetReader' object has no attribute 'rasterio'",
     "output_type": "error",
     "traceback": [
      "\u001b[1;31m---------------------------------------------------------------------------\u001b[0m",
      "\u001b[1;31mAttributeError\u001b[0m                            Traceback (most recent call last)",
      "\u001b[1;32m~\\AppData\\Local\\Temp/ipykernel_7480/1268631639.py\u001b[0m in \u001b[0;36m<module>\u001b[1;34m\u001b[0m\n\u001b[1;32m----> 1\u001b[1;33m \u001b[0mlidar_dem_wgs84\u001b[0m \u001b[1;33m=\u001b[0m \u001b[0mclipped\u001b[0m\u001b[1;33m.\u001b[0m\u001b[0mrasterio\u001b[0m\u001b[1;33m.\u001b[0m\u001b[0mreproject\u001b[0m\u001b[1;33m(\u001b[0m\u001b[0msat_raster12\u001b[0m\u001b[1;33m.\u001b[0m\u001b[0mcrs\u001b[0m\u001b[1;33m)\u001b[0m\u001b[1;33m\u001b[0m\u001b[1;33m\u001b[0m\u001b[0m\n\u001b[0m",
      "\u001b[1;31mAttributeError\u001b[0m: 'DatasetReader' object has no attribute 'rasterio'"
     ]
    }
   ],
   "source": [
    "lidar_dem_wgs84 = clipped.rasterio.reproject(sat_raster12.crs)"
   ]
  },
  {
   "cell_type": "code",
   "execution_count": 38,
   "id": "9b2ef9f2",
   "metadata": {},
   "outputs": [
    {
     "data": {
      "image/png": "[encoded data removed]",
      "text/plain": [
       "<Figure size 432x288 with 1 Axes>"
      ]
     },
     "metadata": {
      "needs_background": "light"
     },
     "output_type": "display_data"
    },
    {
     "data": {
      "text/plain": [
       "<AxesSubplot:>"
      ]
     },
     "execution_count": 38,
     "metadata": {},
     "output_type": "execute_result"
    }
   ],
   "source": [
    "from rasterio.plot import show\n",
    "show(clipped.read(3),cmap='Greens', transform=clipped.transform)"
   ]
  }
 ],
 "metadata": {
  "kernelspec": {
   "display_name": "Python 3 (ipykernel)",
   "language": "python",
   "name": "python3"
  },
  "language_info": {
   "codemirror_mode": {
    "name": "ipython",
    "version": 3
   },
   "file_extension": ".py",
   "mimetype": "text/x-python",
   "name": "python",
   "nbconvert_exporter": "python",
   "pygments_lexer": "ipython3",
   "version": "3.7.10"
  }
 },
 "nbformat": 4,
 "nbformat_minor": 5
}
